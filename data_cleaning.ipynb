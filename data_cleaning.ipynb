{
 "cells": [
  {
   "cell_type": "code",
   "execution_count": 1,
   "id": "db729a48",
   "metadata": {},
   "outputs": [
    {
     "name": "stderr",
     "output_type": "stream",
     "text": [
      "C:\\Users\\matth\\AppData\\Local\\Temp\\ipykernel_18184\\1510210558.py:10: DeprecationWarning: Importing display from IPython.core.display is deprecated since IPython 7.14, please import from IPython display\n",
      "  from IPython.core.display import display, HTML\n"
     ]
    },
    {
     "data": {
      "text/html": [
       "<style>.container { width:100% !important; }</style>"
      ],
      "text/plain": [
       "<IPython.core.display.HTML object>"
      ]
     },
     "metadata": {},
     "output_type": "display_data"
    }
   ],
   "source": [
    "import pandas as pd\n",
    "import plotly.graph_objects as go\n",
    "from plotly.subplots import make_subplots\n",
    "import glob\n",
    "import seaborn as sns\n",
    "import plotly.express as px\n",
    "from tqdm import tqdm\n",
    "import time\n",
    "import re\n",
    "from IPython.core.display import display, HTML\n",
    "display(HTML('<style>.container { width:100% !important; }</style>'))\n",
    "\n",
    "pd.set_option('display.max_columns', None)\n",
    "pd.set_option('display.max_rows', 300)"
   ]
  },
  {
   "cell_type": "code",
   "execution_count": 2,
   "id": "a3297d89",
   "metadata": {},
   "outputs": [],
   "source": [
    "files = pd.concat(\n",
    "    map(pd.read_excel, glob.glob(\"well_data/20*.xlsx\"))\n",
    ")\n",
    "files.to_csv(\"ND_well_data_2015_2023.csv\", index=False)"
   ]
  },
  {
   "cell_type": "code",
   "execution_count": 3,
   "id": "368764c1",
   "metadata": {},
   "outputs": [],
   "source": [
    "oil = pd.read_csv(\"ND_well_data_2015_2023.csv\")\n",
    "\n",
    "oil.columns = [name.lower() for name in oil.columns]\n",
    "\n",
    "oil[\"company\"] = oil['company'].str.replace(',',\"\", regex=False)\n",
    "oil[\"company\"] = oil['company'].str.replace('.',\"\", regex=False)"
   ]
  },
  {
   "cell_type": "code",
   "execution_count": 4,
   "id": "717e4c59",
   "metadata": {
    "scrolled": false
   },
   "outputs": [
    {
     "name": "stderr",
     "output_type": "stream",
     "text": [
      "C:\\Users\\matth\\AppData\\Local\\Temp\\ipykernel_18184\\1044223139.py:3: SettingWithCopyWarning: \n",
      "A value is trying to be set on a copy of a slice from a DataFrame\n",
      "\n",
      "See the caveats in the documentation: https://pandas.pydata.org/pandas-docs/stable/user_guide/indexing.html#returning-a-view-versus-a-copy\n",
      "  oil['quarter'].iloc[index]='SWSE'\n",
      "C:\\Users\\matth\\AppData\\Local\\Temp\\ipykernel_18184\\1044223139.py:4: SettingWithCopyWarning: \n",
      "A value is trying to be set on a copy of a slice from a DataFrame\n",
      "\n",
      "See the caveats in the documentation: https://pandas.pydata.org/pandas-docs/stable/user_guide/indexing.html#returning-a-view-versus-a-copy\n",
      "  oil['section'].iloc[index]=11.0\n",
      "C:\\Users\\matth\\AppData\\Local\\Temp\\ipykernel_18184\\1044223139.py:5: SettingWithCopyWarning: \n",
      "A value is trying to be set on a copy of a slice from a DataFrame\n",
      "\n",
      "See the caveats in the documentation: https://pandas.pydata.org/pandas-docs/stable/user_guide/indexing.html#returning-a-view-versus-a-copy\n",
      "  oil['township'].iloc[index]=146.0\n",
      "C:\\Users\\matth\\AppData\\Local\\Temp\\ipykernel_18184\\1044223139.py:6: SettingWithCopyWarning: \n",
      "A value is trying to be set on a copy of a slice from a DataFrame\n",
      "\n",
      "See the caveats in the documentation: https://pandas.pydata.org/pandas-docs/stable/user_guide/indexing.html#returning-a-view-versus-a-copy\n",
      "  oil['range'].iloc[index]=99.0\n",
      "C:\\Users\\matth\\AppData\\Local\\Temp\\ipykernel_18184\\1044223139.py:9: SettingWithCopyWarning: \n",
      "A value is trying to be set on a copy of a slice from a DataFrame\n",
      "\n",
      "See the caveats in the documentation: https://pandas.pydata.org/pandas-docs/stable/user_guide/indexing.html#returning-a-view-versus-a-copy\n",
      "  oil['quarter'].iloc[index]='NENE'\n",
      "C:\\Users\\matth\\AppData\\Local\\Temp\\ipykernel_18184\\1044223139.py:10: SettingWithCopyWarning: \n",
      "A value is trying to be set on a copy of a slice from a DataFrame\n",
      "\n",
      "See the caveats in the documentation: https://pandas.pydata.org/pandas-docs/stable/user_guide/indexing.html#returning-a-view-versus-a-copy\n",
      "  oil['section'].iloc[index]=9.0\n",
      "C:\\Users\\matth\\AppData\\Local\\Temp\\ipykernel_18184\\1044223139.py:11: SettingWithCopyWarning: \n",
      "A value is trying to be set on a copy of a slice from a DataFrame\n",
      "\n",
      "See the caveats in the documentation: https://pandas.pydata.org/pandas-docs/stable/user_guide/indexing.html#returning-a-view-versus-a-copy\n",
      "  oil['township'].iloc[index]=153.0\n",
      "C:\\Users\\matth\\AppData\\Local\\Temp\\ipykernel_18184\\1044223139.py:12: SettingWithCopyWarning: \n",
      "A value is trying to be set on a copy of a slice from a DataFrame\n",
      "\n",
      "See the caveats in the documentation: https://pandas.pydata.org/pandas-docs/stable/user_guide/indexing.html#returning-a-view-versus-a-copy\n",
      "  oil['range'].iloc[index]=93.0\n"
     ]
    }
   ],
   "source": [
    "# Prima\n",
    "index =[949859,931153]\n",
    "oil['quarter'].iloc[index]='SWSE'\n",
    "oil['section'].iloc[index]=11.0\n",
    "oil['township'].iloc[index]=146.0\n",
    "oil['range'].iloc[index]=99.0\n",
    "# sinclair\n",
    "index=[951247]\n",
    "oil['quarter'].iloc[index]='NENE'\n",
    "oil['section'].iloc[index]=9.0\n",
    "oil['township'].iloc[index]=153.0\n",
    "oil['range'].iloc[index]=93.0"
   ]
  },
  {
   "cell_type": "code",
   "execution_count": 5,
   "id": "ac9c4f7d",
   "metadata": {},
   "outputs": [],
   "source": [
    "county_abbv = {\n",
    "    \"BIL\":\"Billings\",\n",
    "    \"BOT\":\"Bottineau\",\n",
    "    \"BOW\":\"Bowman\",\n",
    "    \"BRK\":\"Burke\",\n",
    "    \"DIV\":\"Divide\",\n",
    "    \"DUN\":\"Dunn\",\n",
    "    \"GV\":\"Golden Valley\",\n",
    "    \"MCH\":\"McHenry\",\n",
    "    \"MCK\":\"McKenzie\",\n",
    "    \"MCL\":\"McLean\",\n",
    "    \"MTL\":\"Mountrail\",\n",
    "    \"REN\":\"Renville\",\n",
    "    \"SLP\":\"Slope\",\n",
    "    \"STK\":\"Stark\",\n",
    "    \"WRD\":\"Ward\",\n",
    "    \"WIL\":\"Williams\"\n",
    "}\n",
    "\n",
    "oil['county_name'] = oil['county'].map(county_abbv)"
   ]
  },
  {
   "cell_type": "code",
   "execution_count": 6,
   "id": "eca16470",
   "metadata": {},
   "outputs": [
    {
     "name": "stdout",
     "output_type": "stream",
     "text": [
      "<class 'pandas.core.frame.DataFrame'>\n",
      "RangeIndex: 1606028 entries, 0 to 1606027\n",
      "Data columns (total 22 columns):\n",
      " #   Column       Non-Null Count    Dtype  \n",
      "---  ------       --------------    -----  \n",
      " 0   reportdate   1606028 non-null  object \n",
      " 1   api_wellno   1606028 non-null  int64  \n",
      " 2   fileno       1606028 non-null  int64  \n",
      " 3   company      1606028 non-null  object \n",
      " 4   wellname     1606028 non-null  object \n",
      " 5   quarter      1605775 non-null  object \n",
      " 6   section      1606004 non-null  float64\n",
      " 7   township     1606004 non-null  float64\n",
      " 8   range        1606004 non-null  float64\n",
      " 9   county       1606028 non-null  object \n",
      " 10  fieldname    1606028 non-null  object \n",
      " 11  pool         1606028 non-null  object \n",
      " 12  oil          1594963 non-null  float64\n",
      " 13  wtr          1594963 non-null  float64\n",
      " 14  days         1594963 non-null  float64\n",
      " 15  runs         1606028 non-null  int64  \n",
      " 16  gas          1594963 non-null  float64\n",
      " 17  gassold      1606028 non-null  int64  \n",
      " 18  flared       1594963 non-null  float64\n",
      " 19  lat          1606028 non-null  float64\n",
      " 20  long         1606028 non-null  float64\n",
      " 21  county_name  1606028 non-null  object \n",
      "dtypes: float64(10), int64(4), object(8)\n",
      "memory usage: 269.6+ MB\n"
     ]
    }
   ],
   "source": [
    "oil.info()"
   ]
  },
  {
   "cell_type": "code",
   "execution_count": 7,
   "id": "67972459",
   "metadata": {},
   "outputs": [],
   "source": [
    "oil['reportdate'] = pd.to_datetime(oil['reportdate'])\n",
    "oil = oil.set_index('reportdate',drop=False)\n",
    "oil.index.names = [\"date\"]\n",
    "oil['year'] = oil.index.year\n",
    "oil['month'] = oil.index.month\n",
    "\n",
    "oil['reportdate']=[str(x)[:-12] for x in oil['reportdate']]\n",
    "\n",
    "days_in_month = {\n",
    "    1:31,\n",
    "    2:28,\n",
    "    3:31,\n",
    "    4:30,\n",
    "    5:31,\n",
    "    6:30,\n",
    "    7:31,\n",
    "    8:31,\n",
    "    9:30,\n",
    "    10:31,\n",
    "    11:30,\n",
    "    12:31\n",
    "}\n",
    "oil['days_in_month'] = oil['month'].map(days_in_month)"
   ]
  },
  {
   "cell_type": "code",
   "execution_count": 8,
   "id": "3beea560",
   "metadata": {},
   "outputs": [],
   "source": [
    "# mergers\n",
    "oil[\"company\"] =oil['company'].str.replace('WPX ENERGY WILLISTON LLC',\"DEVON ENERGY\", regex=False)\n",
    "oil[\"company\"] =oil['company'].str.replace('XTO ENERGY INC',\"EXXONMOBIL\", regex=False)\n",
    "oil[\"company\"] =oil['company'].str.replace('BURLINGTON RESOURCES OIL & GAS COMPANY LP',\"CONOCOPHILLIPS\", regex=False)\n",
    "oil[\"company\"] =oil['company'].str.replace('OASIS PETROLEUM NORTH AMERICA LLC',\"CHORD ENERGY\", regex=False)\n",
    "oil[\"company\"] =oil['company'].str.replace('WHITING OIL AND GAS CORPORATION',\"CHORD ENERGY\", regex=False)"
   ]
  },
  {
   "cell_type": "code",
   "execution_count": 9,
   "id": "8a6b8e39",
   "metadata": {},
   "outputs": [
    {
     "name": "stderr",
     "output_type": "stream",
     "text": [
      "C:\\Users\\matth\\AppData\\Local\\Temp\\ipykernel_18184\\1573427572.py:11: FutureWarning: In a future version of pandas all arguments of DataFrame.dropna will be keyword-only.\n",
      "  oil = oil.dropna(0)\n"
     ]
    }
   ],
   "source": [
    "oil['oil_per_day'] = oil['oil']/oil['days_in_month']\n",
    "oil['gas_per_day'] = oil['gas']/oil['days_in_month']\n",
    "oil['water_per_day'] = oil['wtr']/oil['days_in_month']\n",
    "oil['gassold_per_day'] = oil['gassold']/oil['days_in_month']\n",
    "oil['flared_per_day'] = oil['flared']/oil['days_in_month']\n",
    "oil['gas_boe'] = oil['gas']/6\n",
    "oil['gas_boe_per_day'] = oil['gas_per_day']/6\n",
    "oil['total_boed'] = oil['gas_boe_per_day'] + oil['oil_per_day']\n",
    "\n",
    "# oil[oil['oil_bbl_da'].isin([np.inf, -np.inf])].index\n",
    "oil = oil.dropna(0)"
   ]
  },
  {
   "cell_type": "code",
   "execution_count": 10,
   "id": "a4e85d3f",
   "metadata": {},
   "outputs": [
    {
     "name": "stdout",
     "output_type": "stream",
     "text": [
      "<class 'pandas.core.frame.DataFrame'>\n",
      "DatetimeIndex: 1594710 entries, 2015-05-01 to 2023-01-01\n",
      "Data columns (total 33 columns):\n",
      " #   Column           Non-Null Count    Dtype  \n",
      "---  ------           --------------    -----  \n",
      " 0   reportdate       1594710 non-null  object \n",
      " 1   api_wellno       1594710 non-null  int64  \n",
      " 2   fileno           1594710 non-null  int64  \n",
      " 3   company          1594710 non-null  object \n",
      " 4   wellname         1594710 non-null  object \n",
      " 5   quarter          1594710 non-null  object \n",
      " 6   section          1594710 non-null  float64\n",
      " 7   township         1594710 non-null  float64\n",
      " 8   range            1594710 non-null  float64\n",
      " 9   county           1594710 non-null  object \n",
      " 10  fieldname        1594710 non-null  object \n",
      " 11  pool             1594710 non-null  object \n",
      " 12  oil              1594710 non-null  float64\n",
      " 13  wtr              1594710 non-null  float64\n",
      " 14  days             1594710 non-null  float64\n",
      " 15  runs             1594710 non-null  int64  \n",
      " 16  gas              1594710 non-null  float64\n",
      " 17  gassold          1594710 non-null  int64  \n",
      " 18  flared           1594710 non-null  float64\n",
      " 19  lat              1594710 non-null  float64\n",
      " 20  long             1594710 non-null  float64\n",
      " 21  county_name      1594710 non-null  object \n",
      " 22  year             1594710 non-null  int64  \n",
      " 23  month            1594710 non-null  int64  \n",
      " 24  days_in_month    1594710 non-null  int64  \n",
      " 25  oil_per_day      1594710 non-null  float64\n",
      " 26  gas_per_day      1594710 non-null  float64\n",
      " 27  water_per_day    1594710 non-null  float64\n",
      " 28  gassold_per_day  1594710 non-null  float64\n",
      " 29  flared_per_day   1594710 non-null  float64\n",
      " 30  gas_boe          1594710 non-null  float64\n",
      " 31  gas_boe_per_day  1594710 non-null  float64\n",
      " 32  total_boed       1594710 non-null  float64\n",
      "dtypes: float64(18), int64(7), object(8)\n",
      "memory usage: 413.7+ MB\n"
     ]
    }
   ],
   "source": [
    "oil.info()"
   ]
  },
  {
   "cell_type": "code",
   "execution_count": 11,
   "id": "75b82280",
   "metadata": {},
   "outputs": [],
   "source": [
    "# oil['company'] = oil['company'].astype('category')\n",
    "# oil['reportdate'] = oil['reportdate'].astype('category')\n",
    "# oil['wellname'] = oil['wellname'].astype('category')\n",
    "# oil['quarter'] = oil['quarter'].astype('category')\n",
    "# oil['county'] = oil['county'].astype('category')\n",
    "# oil['county_name'] = oil['county_name'].astype('category')\n",
    "# oil['fieldname'] = oil['fieldname'].astype('category')\n",
    "# oil['pool'] = oil['pool'].astype('category')\n",
    "\n",
    "# oil['fileno'] = oil['fileno'].astype('int32')\n",
    "# oil['section'] = oil['section'].astype('int8')\n",
    "# oil['township'] = oil['township'].astype('int16')\n",
    "# oil['range'] = oil['range'].astype('int16')\n",
    "# oil['oil'] = oil['oil'].astype('int64')\n",
    "# oil['gas'] = oil['gas'].astype('int64')\n",
    "# oil['wtr'] = oil['wtr'].astype('int64')\n",
    "# oil['month'] = oil['month'].astype('int8')\n",
    "# oil['days_in_month'] = oil['days_in_month'].astype('int8')"
   ]
  },
  {
   "cell_type": "code",
   "execution_count": 12,
   "id": "a9d06948",
   "metadata": {},
   "outputs": [],
   "source": [
    "oil.to_pickle(\"ND_well_data_2015_2023_cleaned.pickle\")"
   ]
  },
  {
   "cell_type": "code",
   "execution_count": null,
   "id": "eb80cc43",
   "metadata": {},
   "outputs": [],
   "source": []
  }
 ],
 "metadata": {
  "kernelspec": {
   "display_name": "Python 3 (ipykernel)",
   "language": "python",
   "name": "python3"
  },
  "language_info": {
   "codemirror_mode": {
    "name": "ipython",
    "version": 3
   },
   "file_extension": ".py",
   "mimetype": "text/x-python",
   "name": "python",
   "nbconvert_exporter": "python",
   "pygments_lexer": "ipython3",
   "version": "3.9.16"
  }
 },
 "nbformat": 4,
 "nbformat_minor": 5
}
